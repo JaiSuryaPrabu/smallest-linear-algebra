{
  "nbformat": 4,
  "nbformat_minor": 0,
  "metadata": {
    "colab": {
      "provenance": []
    },
    "kernelspec": {
      "name": "python3",
      "display_name": "Python 3"
    },
    "language_info": {
      "name": "python"
    }
  },
  "cells": [
    {
      "cell_type": "markdown",
      "source": [
        "# Advanced Concepts\n",
        "In this notebook, I will implement the most used advanced concepts in linear algebra.\n",
        "## Table of Contents\n",
        "1. Preliminary concepts\n",
        "  1. Gaussian Elimination\n",
        "  2. Projections\n",
        "2. Matrix Decomposition\n",
        "  1. LU Decomposition\n",
        "  2. QR Decomposition\n",
        "  3. Eigen Decomposition\n",
        "  4. Singular Value Decomposition\n",
        "3. Matrix Approximation\n",
        "  1. Best rank-k approximation with SVD"
      ],
      "metadata": {
        "id": "AdKKHn1lQfRe"
      }
    },
    {
      "cell_type": "code",
      "source": [
        "# imports\n",
        "import numpy as np"
      ],
      "metadata": {
        "id": "wmnukeC7yS-8"
      },
      "execution_count": 1,
      "outputs": []
    },
    {
      "cell_type": "markdown",
      "source": [
        "## Preliminary Concepts"
      ],
      "metadata": {
        "id": "A5huLIzATqSP"
      }
    },
    {
      "cell_type": "markdown",
      "source": [
        "### Gaussian Elimination\n",
        "Gaussian elimination is used to solve the system of linear equations. We use matrix for this.\n",
        "\n",
        "Where it is used?\n",
        "\n",
        "To convert a image into 3D model and this is explained in [Immersive Linear Algebra book](https://immersivemath.com/ila/ch05_gausselim/ch05.html)\n",
        "\n",
        "#### Row Echelon Form\n",
        "$$\\begin{bmatrix} p_1 & a & b \\\\ 0 & p_2 & c \\\\ 0 & 0 & p_3 \\end{bmatrix}$$\n",
        "This is the final result of Gaussian Elimination. Where `p` are pivotal elements. The resulted matrix is a Upper triangular matrix."
      ],
      "metadata": {
        "id": "wjCBMZiaTv6Q"
      }
    },
    {
      "cell_type": "code",
      "execution_count": null,
      "metadata": {
        "id": "cgFyyE4ZQVbK"
      },
      "outputs": [],
      "source": [
        "def gaussian_elimination(A:np.array) -> np.array:\n",
        "  ''' Gaussian Elimination with partial pivoting\n",
        "\n",
        "  :param A:np.array - Matrix with system of linear equation\n",
        "  :return: np.array - Matrix with Row Echelon Form\n",
        "  '''\n",
        "  num_of_rows = A.shape[0]\n",
        "  for row_index in range(num_of_rows):\n",
        "    pivotal_row = np.argmax(np.abs(A[row_index:, row_index])) + row_index # taking the maximum pivotal row\n",
        "    A[[row_index, pivotal_row]] = A[[pivotal_row, row_index]] # swapping the rows\n",
        "\n",
        "    # elimination process\n",
        "    for col_index in range(row_index+1,num_of_rows):\n",
        "      factor = A[col_index,row_index] / A[row_index,row_index]\n",
        "      A[col_index, row_index:] -= factor * A[row_index, row_index:]\n",
        "\n",
        "  return A"
      ]
    },
    {
      "cell_type": "code",
      "source": [
        "A = np.array([\n",
        "        [3, 2, -1, 1],\n",
        "        [2, -2, 4, -2],\n",
        "        [-1, 0.5, -1, 0]\n",
        "    ], dtype=np.float32)\n",
        "gaussian_elimination(A)"
      ],
      "metadata": {
        "colab": {
          "base_uri": "https://localhost:8080/"
        },
        "id": "U2l1y3uxZYyh",
        "outputId": "c49e66f5-2e05-456e-e051-a2a7726d421a"
      },
      "execution_count": null,
      "outputs": [
        {
          "output_type": "execute_result",
          "data": {
            "text/plain": [
              "array([[ 3.        ,  2.        , -1.        ,  1.        ],\n",
              "       [ 0.        , -3.3333335 ,  4.6666665 , -2.6666667 ],\n",
              "       [ 0.        ,  0.        ,  0.29999983, -0.6       ]],\n",
              "      dtype=float32)"
            ]
          },
          "metadata": {},
          "execution_count": 3
        }
      ]
    },
    {
      "cell_type": "markdown",
      "source": [
        "### Projections\n",
        "\n",
        "Projections are used to reduce the multi-dimensional vectors into lower dimensional vectors. It is used in **PCA**.\n",
        "\n",
        "### Example\n",
        "$$\\vec{a}=\\begin{bmatrix}1 \\\\ 3\\end{bmatrix}\n",
        "\\text{   }\\vec{b} = \\begin{bmatrix}3 \\\\ 2 \\end{bmatrix}$$\n",
        "When $\\vec{a}$ vector is projected on $\\vec{b}$ the 2D space is changed to 1D space.\n",
        "\n",
        "The output of the projection of a on b is $\\vec{p} = \\begin{bmatrix}2.0 \\\\ 1.4 \\end{bmatrix}$"
      ],
      "metadata": {
        "id": "igUf76deajki"
      }
    },
    {
      "cell_type": "code",
      "source": [
        "def projections(base : np.array, x : np.array) -> np.array :\n",
        "  projection_matrix = (base @ base.T) / (base.T @ base)\n",
        "  return projection_matrix @ x"
      ],
      "metadata": {
        "id": "ilOEG8ussDO2"
      },
      "execution_count": null,
      "outputs": []
    },
    {
      "cell_type": "code",
      "source": [
        "base = np.array([[3],\n",
        "              [2]])\n",
        "x = np.array([[1],\n",
        "              [3]])\n",
        "p = projections(base,x)\n",
        "p"
      ],
      "metadata": {
        "colab": {
          "base_uri": "https://localhost:8080/"
        },
        "id": "0jD_LtfIsPJm",
        "outputId": "f172aec4-df8b-4d92-abd2-6c04442c7636"
      },
      "execution_count": null,
      "outputs": [
        {
          "output_type": "execute_result",
          "data": {
            "text/plain": [
              "array([[2.07692308],\n",
              "       [1.38461538]])"
            ]
          },
          "metadata": {},
          "execution_count": 7
        }
      ]
    },
    {
      "cell_type": "markdown",
      "source": [
        "## Matrix Decomposition"
      ],
      "metadata": {
        "id": "6rH1bLIfsZgD"
      }
    },
    {
      "cell_type": "markdown",
      "source": [
        "### LU Decomposition\n",
        "Formula for the LU Decomposition is $$A=LU$$\n",
        "where,\n",
        "* A - A is a square matrix\n",
        "* L - Lower Triangular matrix\n",
        "* U - Upper Triangular matrix\n",
        "#### Algorithm\n",
        "The LU decomposition works by transforming the original matrix A into a product of two triangular matrices, L and U. The process involves the following steps:\n",
        "1. Initialize the L and U matrices with zeros.\n",
        "2. Iterate through each element of the A matrix, starting from the top-left corner.\n",
        "3. For each element, calculate the corresponding elements in the L and U matrices using the following formulas:\n",
        "4. For the L matrix: `L[i, j] = A[i, j] - sum(L[i, k] * U[k, j]) for k < j`\n",
        "5. For the U matrix: `U[i, j] = A[i, j] - sum(L[i, k] * U[k, j]) for k < i`\n",
        "6. Repeat steps 2-3 until all elements of the A matrix have been processed."
      ],
      "metadata": {
        "id": "9GJTlNQLse12"
      }
    },
    {
      "cell_type": "code",
      "source": [
        "def LU(A:np.array, verify : bool = False) -> (np.array,np.array):\n",
        "  '''\n",
        "  LU is a function that converts a square matrix into two matrix they are lower triangular matrix and upper triangular matrix\n",
        "\n",
        "  :param A: np.array - Matrix to be decomposed\n",
        "  :param verify: bool - to print the verification of the function\n",
        "  :return: (np.array,np.array) - Lower triangular matrix and upper triangular matrix'''\n",
        "\n",
        "  num_of_rows = A.shape[0]\n",
        "\n",
        "  # Initializing L and U\n",
        "  L = np.zeros((num_of_rows,num_of_rows))\n",
        "  U = np.copy(A).astype(np.float64)\n",
        "\n",
        "  # making all the diagonal matrix of L to 1\n",
        "  np.fill_diagonal(L,1)\n",
        "\n",
        "  # decomposition\n",
        "  for col_index in range(num_of_rows):\n",
        "    for element_index in range(col_index+1,num_of_rows):\n",
        "      L[element_index,col_index] = U[element_index,col_index] / U[col_index,col_index]\n",
        "      U[element_index,:] -= L[element_index,col_index] * U[col_index,:]\n",
        "\n",
        "  if verify:\n",
        "    print(\"Verification\")\n",
        "    print(f\"Given matrix A : \\n{A}\")\n",
        "    print(f\"Lower Triangular matrix L : \\n{L}\")\n",
        "    print(f\"Upper Triangular matrix U : \\n{U}\")\n",
        "    print(f\"L @ U : \\n{np.allclose(A,np.dot(L,U))}\")\n",
        "\n",
        "  return L,U"
      ],
      "metadata": {
        "id": "7M2ePZsnu3Xk"
      },
      "execution_count": null,
      "outputs": []
    },
    {
      "cell_type": "code",
      "source": [
        "A = np.array([[2, 1, 1, 0],\n",
        "              [4, 3, 3, 1],\n",
        "              [8, 7, 9, 5],\n",
        "              [6, 7, 9, 8]])\n",
        "\n",
        "LU(A,verify=True)"
      ],
      "metadata": {
        "colab": {
          "base_uri": "https://localhost:8080/"
        },
        "id": "unK6Rlj_xUzl",
        "outputId": "1a67d809-9a1b-435e-8aa0-161ecb2b23fc"
      },
      "execution_count": null,
      "outputs": [
        {
          "output_type": "stream",
          "name": "stdout",
          "text": [
            "Verification\n",
            "Given matrix A : \n",
            "[[2 1 1 0]\n",
            " [4 3 3 1]\n",
            " [8 7 9 5]\n",
            " [6 7 9 8]]\n",
            "Lower Triangular matrix L : \n",
            "[[1. 0. 0. 0.]\n",
            " [2. 1. 0. 0.]\n",
            " [4. 3. 1. 0.]\n",
            " [3. 4. 1. 1.]]\n",
            "Upper Triangular matrix U : \n",
            "[[2. 1. 1. 0.]\n",
            " [0. 1. 1. 1.]\n",
            " [0. 0. 2. 2.]\n",
            " [0. 0. 0. 2.]]\n",
            "L @ U : \n",
            "True\n"
          ]
        },
        {
          "output_type": "execute_result",
          "data": {
            "text/plain": [
              "(array([[1., 0., 0., 0.],\n",
              "        [2., 1., 0., 0.],\n",
              "        [4., 3., 1., 0.],\n",
              "        [3., 4., 1., 1.]]),\n",
              " array([[2., 1., 1., 0.],\n",
              "        [0., 1., 1., 1.],\n",
              "        [0., 0., 2., 2.],\n",
              "        [0., 0., 0., 2.]]))"
            ]
          },
          "metadata": {},
          "execution_count": 13
        }
      ]
    },
    {
      "cell_type": "markdown",
      "source": [
        "### QR Decomposition\n",
        "This decomposition is useful in solving systems of linear equations, finding the inverse of a matrix, and computing determinants.\n",
        "The formula : $$A=QR$$\n",
        "where\n",
        "* A - matrix\n",
        "* Q - Orthogonal matrix\n",
        "* R - Upper Triangular matrix\n",
        "#### Algorithm\n",
        "The QR decomposition algorithm involves the following steps:\n",
        "1. Initialize the Q and R matrices.\n",
        "2. Apply the `Gram-Schmidt process` to the columns of A to obtain the orthogonal matrix Q.\n",
        "3. Compute the R matrix using the formula: $R = Q^T A$."
      ],
      "metadata": {
        "id": "2gx5mVRyyXRz"
      }
    },
    {
      "cell_type": "code",
      "source": [
        "def QR(A : np.array, verify : bool = False) -> (np.array,np.array):\n",
        "  '''QR Decomposition is to solve the system of linear equations\n",
        "\n",
        "  :param A: np.array - Matrix to be decomposed\n",
        "  :param verify: bool - to print the verification of the function\n",
        "  :return: (np.array,np.array) - Orthogonal matrix and Upper Triangular matrix'''\n",
        "  num_rows,num_cols = A.shape\n",
        "\n",
        "  Q = np.zeros((num_rows,num_cols))\n",
        "  R = np.zeros((num_rows,num_cols))\n",
        "\n",
        "  # Gram-Schmidt\n",
        "  for col in range(num_cols):\n",
        "    vector = A[:,col]\n",
        "    # Subtract the projection of v onto the previous columns of Q\n",
        "    for prev_col in range(col):\n",
        "      prev_col_elements = Q[:,prev_col]\n",
        "      R[prev_col,col] = np.dot(prev_col_elements,vector)\n",
        "      vector = vector - R[prev_col,col] * prev_col_elements\n",
        "    # normalizing the vector\n",
        "    norm = np.linalg.norm(vector)\n",
        "    Q[:,col] = vector / norm\n",
        "    R[col,col] = norm\n",
        "\n",
        "  if verify:\n",
        "    print(\"Verification\")\n",
        "    print(f\"Given matrix A : \\n{A}\")\n",
        "    print(f\"Orthogonal matrix Q : \\n{Q}\")\n",
        "    print(f\"Upper Triangular matrix R : \\n{R}\")\n",
        "    print(f\"L @ U : \\n{np.allclose(A,np.dot(Q,R))}\")\n",
        "  return Q,R"
      ],
      "metadata": {
        "id": "EEIim3xX0ChG"
      },
      "execution_count": null,
      "outputs": []
    },
    {
      "cell_type": "code",
      "source": [
        "A = np.array([[2, 1, 1, 0],\n",
        "              [4, 3, 3, 1],\n",
        "              [8, 7, 9, 5],\n",
        "              [6, 7, 9, 8]])\n",
        "\n",
        "QR(A,verify=True)"
      ],
      "metadata": {
        "colab": {
          "base_uri": "https://localhost:8080/"
        },
        "id": "yH3enqTx29Yc",
        "outputId": "9c563f86-8d0b-4a5e-a575-622c5cf59fbd"
      },
      "execution_count": null,
      "outputs": [
        {
          "output_type": "stream",
          "name": "stdout",
          "text": [
            "Verification\n",
            "Given matrix A : \n",
            "[[2 1 1 0]\n",
            " [4 3 3 1]\n",
            " [8 7 9 5]\n",
            " [6 7 9 8]]\n",
            "Orthogonal matrix Q : \n",
            "[[ 0.18257419 -0.46547467  0.          0.8660254 ]\n",
            " [ 0.36514837 -0.39386318 -0.79259392 -0.28867513]\n",
            " [ 0.73029674 -0.25064021  0.56613852 -0.28867513]\n",
            " [ 0.54772256  0.75192062 -0.22645541  0.28867513]]\n",
            "Upper Triangular matrix R : \n",
            "[[10.95445115 10.22415441 12.78019301  8.39841255]\n",
            " [ 0.          1.86189867  2.8644595   4.36830073]\n",
            " [ 0.          0.          0.67936622  0.22645541]\n",
            " [ 0.          0.          0.          0.57735027]]\n",
            "L @ U : \n",
            "True\n"
          ]
        },
        {
          "output_type": "execute_result",
          "data": {
            "text/plain": [
              "(array([[ 0.18257419, -0.46547467,  0.        ,  0.8660254 ],\n",
              "        [ 0.36514837, -0.39386318, -0.79259392, -0.28867513],\n",
              "        [ 0.73029674, -0.25064021,  0.56613852, -0.28867513],\n",
              "        [ 0.54772256,  0.75192062, -0.22645541,  0.28867513]]),\n",
              " array([[10.95445115, 10.22415441, 12.78019301,  8.39841255],\n",
              "        [ 0.        ,  1.86189867,  2.8644595 ,  4.36830073],\n",
              "        [ 0.        ,  0.        ,  0.67936622,  0.22645541],\n",
              "        [ 0.        ,  0.        ,  0.        ,  0.57735027]]))"
            ]
          },
          "metadata": {},
          "execution_count": 15
        }
      ]
    },
    {
      "cell_type": "markdown",
      "source": [
        "### Eigen decomposition\n",
        "Eigen decomposition is a `factorization` technique used to decompose a square matrix into the product of three matrices:\n",
        "1. a matrix of eigenvectors,\n",
        "2. a diagonal matrix of eigenvalues, and\n",
        "3. the inverse of the eigenvector matrix.\n",
        "\n",
        "This decomposition is useful in solving systems of linear differential equations, analyzing the stability of systems, and understanding the properties of matrices.\n",
        "\n",
        "The formula : $$A=VΛV^{-1}$$\n",
        "where,\n",
        "* V is a matrix of eigenvectors,\n",
        "* Λ is a diagonal matrix of eigenvalue\n",
        "* $V^{-1}$ is the inverse of the eigenvector matrix."
      ],
      "metadata": {
        "id": "qKzddu_w3CIs"
      }
    },
    {
      "cell_type": "code",
      "source": [
        "def eigen_decomposition(A : np.array , verify : bool = False) -> (np.array,np.array,np.array):\n",
        "  '''\n",
        "  Eigen Decomposition is used to solve system of linear equation\n",
        "\n",
        "  :param A: np.array - matrix to be decomposed\n",
        "  :param verify: bool - to print the verification of the function\n",
        "  :returns: (np.array,np.array,np.array) - Matrix of eigenvectors, Diagonal matrix of eigen value and Inverse of Eigenvectors\n",
        "  '''\n",
        "  eigenvalues,eigenvectors = np.linalg.eig(A)\n",
        "  lambda_matrix = np.diag(eigenvalues)\n",
        "  inverse_eignevectors = np.linalg.inv(eigenvectors)\n",
        "\n",
        "  if verify:\n",
        "    print(\"Verification\")\n",
        "    print(f\"Given matrix A : \\n{A}\")\n",
        "    print(f\"Matrix of eigenvectors : \\n{eigenvectors}\")\n",
        "    print(f\"Diagonal matrix of eigen value : \\n{lambda_matrix}\")\n",
        "    print(f\"Inverse of Eigenvectors : \\n{inverse_eignevectors}\")\n",
        "    print(f\"V @ Λ @ V^-1 : \\n{np.allclose(A,np.dot(np.dot(eigenvectors,lambda_matrix),inverse_eignevectors))}\")\n",
        "\n",
        "  return eigenvectors,lambda_matrix,inverse_eignevectors"
      ],
      "metadata": {
        "id": "u9hZle3S4XJ1"
      },
      "execution_count": null,
      "outputs": []
    },
    {
      "cell_type": "code",
      "source": [
        "A = np.array([[2, 1, 1, 0],\n",
        "              [4, 3, 3, 1],\n",
        "              [8, 7, 9, 5],\n",
        "              [6, 7, 9, 8]])\n",
        "\n",
        "eigen_decomposition(A,True)"
      ],
      "metadata": {
        "colab": {
          "base_uri": "https://localhost:8080/"
        },
        "id": "rUtIm9KY5meR",
        "outputId": "d4e9260e-f716-4b2f-a800-dfdb139033e4"
      },
      "execution_count": null,
      "outputs": [
        {
          "output_type": "stream",
          "name": "stdout",
          "text": [
            "Verification\n",
            "Given matrix A : \n",
            "[[2 1 1 0]\n",
            " [4 3 3 1]\n",
            " [8 7 9 5]\n",
            " [6 7 9 8]]\n",
            "Matrix of eigenvectors : \n",
            "[[ 0.05217777  0.24958023  0.21781155 -0.39040915]\n",
            " [ 0.19290936  0.34361034  0.46497954  0.86229217]\n",
            " [ 0.62976442  0.02230173 -0.78847685 -0.17999628]\n",
            " [ 0.75063988 -0.9050659   0.33860952 -0.26764575]]\n",
            "Diagonal matrix of eigen value : \n",
            "[[17.76674972  0.          0.          0.        ]\n",
            " [ 0.          3.46610996  0.          0.        ]\n",
            " [ 0.          0.          0.51478349  0.        ]\n",
            " [ 0.          0.          0.          0.25235682]]\n",
            "Inverse of Eigenvectors : \n",
            "[[ 0.73358274  0.63864187  0.77850317  0.46393712]\n",
            " [ 1.27998936  0.49175105  0.40513445 -0.55524578]\n",
            " [ 0.88496413  0.38386049 -0.63678527  0.37407947]\n",
            " [-1.1513763   0.61387776  0.00777369 -0.08425094]]\n",
            "V @ Λ @ V^-1 : \n",
            "True\n"
          ]
        },
        {
          "output_type": "execute_result",
          "data": {
            "text/plain": [
              "(array([[ 0.05217777,  0.24958023,  0.21781155, -0.39040915],\n",
              "        [ 0.19290936,  0.34361034,  0.46497954,  0.86229217],\n",
              "        [ 0.62976442,  0.02230173, -0.78847685, -0.17999628],\n",
              "        [ 0.75063988, -0.9050659 ,  0.33860952, -0.26764575]]),\n",
              " array([[17.76674972,  0.        ,  0.        ,  0.        ],\n",
              "        [ 0.        ,  3.46610996,  0.        ,  0.        ],\n",
              "        [ 0.        ,  0.        ,  0.51478349,  0.        ],\n",
              "        [ 0.        ,  0.        ,  0.        ,  0.25235682]]),\n",
              " array([[ 0.73358274,  0.63864187,  0.77850317,  0.46393712],\n",
              "        [ 1.27998936,  0.49175105,  0.40513445, -0.55524578],\n",
              "        [ 0.88496413,  0.38386049, -0.63678527,  0.37407947],\n",
              "        [-1.1513763 ,  0.61387776,  0.00777369, -0.08425094]]))"
            ]
          },
          "metadata": {},
          "execution_count": 17
        }
      ]
    },
    {
      "cell_type": "markdown",
      "source": [
        "### SVD\n",
        "In eigen decomposition, the matrix `A` must be square matrix. This is the major problem and to solve this issue, SVD is introduced. SVD splits `A` into :    \n",
        "1. Orthogonal matrix that contains left singular vectors\n",
        "2. Diagonal matrix of singular values\n",
        "3. Orthogonal matrix that contains right singular vectors\n",
        "\n",
        "The formula : $$A = UΣV^T$$\n",
        "where,\n",
        "* A - can be any matrix\n",
        "* U - Orthogonal Matrix\n",
        "* $V^T$ - Transpose of Orthogonal matrix that is same as in Eigen decomposition\n",
        "* $Σ$ - Diagonal matrix of singular values\n",
        "#### Algorithm\n",
        "1. Calculate the matrix A^T A, where A^T is the transpose of A.\n",
        "2. Calculate the eigenvalues and eigenvectors of A^T A.\n",
        "3. The eigenvalues of A^T A are the squares of the singular values of A.\n",
        "4. The eigenvectors of A^T A are the right singular vectors of A.\n",
        "5. Calculate the left singular vectors of A by multiplying A with the right singular vectors and dividing by the corresponding singular values.\n",
        "\n",
        "#### Resources\n",
        "1. [Visualization of SVD - YouTube](https://youtu.be/vSczTbgc8Rc?si=J74qCUlHzuCOjWt_)"
      ],
      "metadata": {
        "id": "yqlmhJiI6ULx"
      }
    },
    {
      "cell_type": "code",
      "source": [
        "def SVD(A:np.array,verify : bool = False) -> (np.array,np.array,np.array) :\n",
        "  ''' SVD is updated version of Eigen decomposition\n",
        "\n",
        "  :param A: np.array - Matrix to be decomposed\n",
        "  :param verify: bool - to print the verification of the function\n",
        "  :return: (np.array,np.array,np.array) - Orthogonal matrix, Diagonal matrix and Transpose of Orthogonal matrix'''\n",
        "  A_T_A = np.dot(A.T,A)\n",
        "  eigen_values,eigen_vectors = np.linalg.eig(A_T_A)\n",
        "\n",
        "  # sorting eigen vector in reverse order\n",
        "  index = np.argsort(eigen_values)[::-1]\n",
        "  eigen_values = eigen_values[index]\n",
        "  eigen_vectors = eigen_vectors[:,index]\n",
        "\n",
        "  # calculating the singular values\n",
        "  singular_values = np.sqrt(np.abs(eigen_values))\n",
        "\n",
        "  # diagonal matrix of singular values\n",
        "  diagonal_matrix = np.diag(singular_values)\n",
        "\n",
        "  # calculating the left singular values\n",
        "  U = np.dot(A,eigen_vectors) / singular_values\n",
        "\n",
        "  if verify:\n",
        "    print(\"Verification\")\n",
        "    print(f\"Given matrix A : \\n{A}\")\n",
        "    print(f\"Orthogonal matrix U : \\n{U}\")\n",
        "    print(f\"Diagonal matrix of singular values : \\n{diagonal_matrix}\")\n",
        "    print(f\"Transpose of Orthogonal matrix V : \\n{eigen_vectors.T}\")\n",
        "    print(f\"U @ Σ @ V : \\n{np.allclose(A,np.dot(np.dot(U,diagonal_matrix),eigen_vectors.T))}\")\n",
        "\n",
        "  return U,diagonal_matrix,eigen_vectors.T\n"
      ],
      "metadata": {
        "id": "q45BEXUi8lGT"
      },
      "execution_count": 2,
      "outputs": []
    },
    {
      "cell_type": "code",
      "source": [
        "A = np.array([[2, 1, 1, 0],\n",
        "              [4, 3, 3, 1],\n",
        "              [8, 7, 9, 5],\n",
        "              [6, 7, 9, 8]])\n",
        "\n",
        "SVD(A,True)"
      ],
      "metadata": {
        "colab": {
          "base_uri": "https://localhost:8080/"
        },
        "id": "id35ngiV-9dL",
        "outputId": "1303ef68-1977-46a6-977a-bc2d0de32651"
      },
      "execution_count": null,
      "outputs": [
        {
          "output_type": "stream",
          "name": "stdout",
          "text": [
            "Verification\n",
            "Given matrix A : \n",
            "[[2 1 1 0]\n",
            " [4 3 3 1]\n",
            " [8 7 9 5]\n",
            " [6 7 9 8]]\n",
            "Orthogonal matrix U : \n",
            "[[ 0.09405951  0.37837471 -0.38179085 -0.83798636]\n",
            " [ 0.25637107  0.54175772 -0.58921648  0.54184536]\n",
            " [ 0.67402341  0.39256817  0.62495603 -0.0318219 ]\n",
            " [ 0.68638118 -0.63970414 -0.3413058  -0.05630135]]\n",
            "Diagonal matrix of singular values : \n",
            "[[21.85847672  0.          0.          0.        ]\n",
            " [ 0.          3.45065757  0.          0.        ]\n",
            " [ 0.          0.          0.50598155  0.        ]\n",
            " [ 0.          0.          0.          0.2096204 ]]\n",
            "Transpose of Orthogonal matrix V : \n",
            "[[ 0.49061414  0.4751477   0.59962157  0.41711679]\n",
            " [ 0.64512366  0.07931708 -0.06392284 -0.75725698]\n",
            " [-0.3332812  -0.32390239  0.79728567 -0.38515769]\n",
            " [-0.48170206  0.81426698 -0.02652189 -0.32284517]]\n",
            "U @ Σ @ V : \n",
            "True\n"
          ]
        },
        {
          "output_type": "execute_result",
          "data": {
            "text/plain": [
              "(array([[ 0.09405951,  0.37837471, -0.38179085, -0.83798636],\n",
              "        [ 0.25637107,  0.54175772, -0.58921648,  0.54184536],\n",
              "        [ 0.67402341,  0.39256817,  0.62495603, -0.0318219 ],\n",
              "        [ 0.68638118, -0.63970414, -0.3413058 , -0.05630135]]),\n",
              " array([[21.85847672,  0.        ,  0.        ,  0.        ],\n",
              "        [ 0.        ,  3.45065757,  0.        ,  0.        ],\n",
              "        [ 0.        ,  0.        ,  0.50598155,  0.        ],\n",
              "        [ 0.        ,  0.        ,  0.        ,  0.2096204 ]]),\n",
              " array([[ 0.49061414,  0.4751477 ,  0.59962157,  0.41711679],\n",
              "        [ 0.64512366,  0.07931708, -0.06392284, -0.75725698],\n",
              "        [-0.3332812 , -0.32390239,  0.79728567, -0.38515769],\n",
              "        [-0.48170206,  0.81426698, -0.02652189, -0.32284517]]))"
            ]
          },
          "metadata": {},
          "execution_count": 15
        }
      ]
    },
    {
      "cell_type": "markdown",
      "source": [
        "# Matrix Approximation\n",
        "Matrix approximation is converting bigger matrix into smaller matrix.\n",
        "This concept is like `80-20 rule`\n"
      ],
      "metadata": {
        "id": "lYqEfN-GAggR"
      }
    },
    {
      "cell_type": "markdown",
      "source": [
        "## Best K rank with SVD\n",
        "We only select `k` elements from the SVD"
      ],
      "metadata": {
        "id": "IAReZdb1B5ic"
      }
    },
    {
      "cell_type": "code",
      "source": [
        "def best_k_SVD(A: np.array , k : int) -> np.array:\n",
        "  '''\n",
        "  best_k_SVD is a matrix approximation function\n",
        "\n",
        "  :param A: np.array - matrix\n",
        "  :param k: int - k value\n",
        "  :returns: np.array - approximated matrix'''\n",
        "  U, Sigma, V_T = SVD(A)\n",
        "  # selecting k elements\n",
        "  U_k = U[:,:k]\n",
        "  Sigma_k = Sigma[:k,:k]\n",
        "  V_T_k = V_T[:k,:]\n",
        "  # approx matrix of A\n",
        "  A_k = np.dot(U_k,np.dot(Sigma_k,V_T_k))\n",
        "\n",
        "  return A_k"
      ],
      "metadata": {
        "id": "bv8ca_waCFDb"
      },
      "execution_count": 3,
      "outputs": []
    },
    {
      "cell_type": "code",
      "source": [
        "A = np.array([[2, 1, 1, 0],\n",
        "              [4, 3, 3, 1],\n",
        "              [8, 7, 9, 5],\n",
        "              [6, 7, 9, 8]])\n",
        "\n",
        "approx_A = best_k_SVD(A,k=2)\n",
        "\n",
        "approx_A"
      ],
      "metadata": {
        "colab": {
          "base_uri": "https://localhost:8080/"
        },
        "id": "AmJrBm2kKz3h",
        "outputId": "92989b36-02c0-4930-eddc-1cde77677a56"
      },
      "execution_count": 5,
      "outputs": [
        {
          "output_type": "execute_result",
          "data": {
            "text/plain": [
              "array([[ 1.85100171,  1.08046217,  1.14936014, -0.1311151 ],\n",
              "       [ 3.95535059,  2.81094817,  3.24070931,  0.92184126],\n",
              "       [ 8.10217572,  7.10785477,  8.74770842,  5.11963956],\n",
              "       [ 5.93675919,  6.95367377,  9.13737379,  7.92967522]])"
            ]
          },
          "metadata": {},
          "execution_count": 5
        }
      ]
    }
  ]
}