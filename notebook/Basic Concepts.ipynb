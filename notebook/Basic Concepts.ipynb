{
 "cells": [
  {
   "cell_type": "markdown",
   "metadata": {},
   "source": [
    "# Basic Concepts\n",
    "## Table of contents\n",
    "1. Vector\n",
    "2. Matrix"
   ]
  },
  {
   "cell_type": "markdown",
   "metadata": {},
   "source": [
    "In this notebook, basic concepts in linear algebra are implemented in python from scratch"
   ]
  },
  {
   "cell_type": "markdown",
   "metadata": {},
   "source": [
    "## Vector and its operations\n",
    "### Vector Basics\n",
    "- **Definition:** A vector is an ordered list of numbers, which can represent different types of data such as images, audio, and videos in computer science.\n",
    "- **Representation:** Vectors can be represented geometrically (as arrows in space), algebraically (as polynomial expressions), and in terms of real numbers.\n",
    "### Vector Properties\n",
    "- **Dimension:** The number of elements in a vector, indicating the vector space's dimension.\n",
    "- **Span:** All possible linear combinations of a set of vectors. If a vector scales up, the vector space also scales up proportionately in all directions.\n",
    "- **Linear Dependence and Independence:** Vectors are linearly dependent if one can be expressed as a linear combination of others. They are independent if no vector in the set can be expressed as a combination of the others.\n",
    "- **Norm:** The length of a vector, used to find the distance between vectors. There are three types of norms and they are :\n",
    "\t- *Euclidean norm* - L2 norm - mostly used\n",
    "\t- *Manhattan norm* - L1 norm\n",
    "\t- *Max norm*\n",
    "- **Orthogonality:** Vectors are orthogonal if their dot product is zero, meaning they are perpendicular.\n",
    "### **Advanced Concepts**\n",
    "- **Basis Vectors:** A set of linearly independent vectors that span the vector space. In 2D space, these are akin to the x and y axes. In machine learning, basis vectors is crucial for initializing weights in neural networks."
   ]
  },
  {
   "cell_type": "code",
   "execution_count": 23,
   "metadata": {},
   "outputs": [],
   "source": [
    "import math\n",
    "from typing import List, Union\n",
    "\n",
    "class Vector:\n",
    "    def __init__(self, array: List[Union[int, float]]):\n",
    "        ''' Initializes an array of elements for a vector\n",
    "\n",
    "        :param array: list[int/float] - accepts list of numeric values\n",
    "        '''\n",
    "        if not self.is_valid_vector(array):\n",
    "            print(f\"Vector needs a list of numbers, but got {array}\")\n",
    "            exit(0)\n",
    "        \n",
    "        self.array = array\n",
    "        self.dimension = len(array)\n",
    "\n",
    "    def is_valid_vector(self, array: List[Union[int, float]]) -> bool:\n",
    "        '''\n",
    "        This function checks whether the given array is a valid vector\n",
    "        :param array: list[int/float] - accepts list of numeric values\n",
    "        :returns: bool - whether the given array is a valid vector\n",
    "        '''\n",
    "        return all(isinstance(i, (int, float)) for i in array)\n",
    "\n",
    "    def l2_norm(self) -> float:\n",
    "        return math.sqrt(sum(x**2 for x in self.array))\n",
    "\n",
    "    def dot(self, other: 'Vector') -> Union[int, float]:\n",
    "        '''\n",
    "        Vector-Vector dot product\n",
    "\n",
    "        :param other: Vector - Second vector\n",
    "        :returns: int/float - Dot product of two vectors\n",
    "        '''\n",
    "        if self.dimension != other.dimension:\n",
    "            raise ValueError(\"Vectors must be of the same dimension for dot product\")\n",
    "        return sum(a * b for a, b in zip(self.array, other.array))\n",
    "\n",
    "    def scalar_multiplication(self, scalar: Union[int, float]) -> 'Vector':\n",
    "        ''' \n",
    "        Scalar-Vector Multiplication\n",
    "\n",
    "        :param scalar: int/float - scalar value\n",
    "        :returns: Vector - Result of scalar multiplication\n",
    "        '''\n",
    "        return Vector([scalar * value for value in self.array])\n",
    "\n",
    "    def __add__(self, other: 'Vector') -> 'Vector':\n",
    "        '''\n",
    "        Vector-Vector addition\n",
    "\n",
    "        :param other: Vector - Second vector\n",
    "        :returns: Vector - Result of vector addition\n",
    "        '''\n",
    "        if self.dimension != other.dimension:\n",
    "            raise ValueError(\"Vectors must be of the same dimension for addition\")\n",
    "        return Vector([a + b for a, b in zip(self.array, other.array)])\n",
    "\n",
    "    def __repr__(self) -> str:\n",
    "        return f\"Vector: {self.array}\""
   ]
  },
  {
   "cell_type": "code",
   "execution_count": 17,
   "metadata": {},
   "outputs": [
    {
     "data": {
      "text/plain": [
       "Vector: [1, 2, 3]"
      ]
     },
     "execution_count": 17,
     "metadata": {},
     "output_type": "execute_result"
    }
   ],
   "source": [
    "v1 = Vector([1,2,3])\n",
    "v2 = Vector([3,4,5])\n",
    "v1"
   ]
  },
  {
   "cell_type": "markdown",
   "metadata": {},
   "source": [
    "### Vector Operations\n",
    "#### **Addition:** \n",
    "Combining two vectors to get a new vector."
   ]
  },
  {
   "cell_type": "code",
   "execution_count": 19,
   "metadata": {},
   "outputs": [
    {
     "data": {
      "text/plain": [
       "Vector: [4, 6, 8]"
      ]
     },
     "execution_count": 19,
     "metadata": {},
     "output_type": "execute_result"
    }
   ],
   "source": [
    "v1 + v2"
   ]
  },
  {
   "cell_type": "markdown",
   "metadata": {},
   "source": [
    "#### **Scalar Multiplication:** \n",
    "Scaling a vector up or down by multiplying it with a scalar.\n"
   ]
  },
  {
   "cell_type": "code",
   "execution_count": 24,
   "metadata": {},
   "outputs": [
    {
     "data": {
      "text/plain": [
       "Vector: [3, 6, 9]"
      ]
     },
     "execution_count": 24,
     "metadata": {},
     "output_type": "execute_result"
    }
   ],
   "source": [
    "v1.scalar_multiplication(3)"
   ]
  },
  {
   "cell_type": "markdown",
   "metadata": {},
   "source": [
    "#### **Dot Product:** \n",
    "The dot product of two vectors is a scalar obtained by multiplying corresponding elements and summing the results. It’s used to find the angle between vectors. In this order is not important. Because the formula for dot product is $$\\mathbf{\\vec{a}} \\cdot \\mathbf{\\vec{b}} = \\| \\mathbf{a} \\| \\| \\mathbf{b} \\| \\cos \\theta\n",
    "$$"
   ]
  },
  {
   "cell_type": "code",
   "execution_count": 26,
   "metadata": {},
   "outputs": [
    {
     "data": {
      "text/plain": [
       "26"
      ]
     },
     "execution_count": 26,
     "metadata": {},
     "output_type": "execute_result"
    }
   ],
   "source": [
    "v1.dot(v2) # if 0 then it is orthogonal"
   ]
  },
  {
   "cell_type": "markdown",
   "metadata": {},
   "source": [
    "#### **Normalization** : \n",
    "Converting a vector into unit vector (vectors having only value of 1) $$\\vec{v} = \\frac{1}{\\vec{v}} \\times \\vec{v}$$"
   ]
  },
  {
   "cell_type": "markdown",
   "metadata": {},
   "source": [
    "#### **Vector Product** : \n",
    "Also called cross product provides a vector as output. If we cross product $\\vec{u}$ and $\\vec{v}$, the result will be $\\vec{w}$ orthogonal to those vectors such that $\\vec{u}$ (x-axis), $\\vec{v}$ (y-axis) then $\\vec{w}$ will be in z-axis. $$\\mathbf{\\vec{u}} \\cdot \\mathbf{\\vec{v}} = \\| \\mathbf{u} \\| \\| \\mathbf{v} \\| \\sin \\theta\n",
    "$$"
   ]
  },
  {
   "cell_type": "markdown",
   "metadata": {},
   "source": [
    "## Matrix and its operations"
   ]
  },
  {
   "cell_type": "markdown",
   "metadata": {},
   "source": [
    "Matrix is a collection of column vectors"
   ]
  },
  {
   "cell_type": "code",
   "execution_count": 51,
   "metadata": {},
   "outputs": [],
   "source": [
    "class Matrix:\n",
    "    def __init__(self, array: List[List[Union[int, float]]]):\n",
    "        ''' Initializes an array of elements for a matrix\n",
    "\n",
    "        :param array: list[int/float] - accepts list of numeric values\n",
    "        '''\n",
    "        if not self.check_elements(array):\n",
    "            print(f\"The requested array has an inhomogeneous shape: {array}\")\n",
    "            exit(0)\n",
    "        \n",
    "        self.array = array\n",
    "        self.dimensions = (len(array), len(array[0]))\n",
    "\n",
    "    def __repr__(self) -> str:\n",
    "        return f\"Matrix: {self.array} \\nShape: {self.dimensions}\"\n",
    "\n",
    "    def check_elements(self, array: List[List[Union[int, float]]]) -> bool:\n",
    "        ''' This function checks that each row has equal number of columns '''\n",
    "        if array is None or len(array) == 0:\n",
    "            return False\n",
    "        \n",
    "        col_size = len(array[0])\n",
    "        for row in array:\n",
    "            if col_size != len(row):\n",
    "                print(f\"The requested array in this row : {row} has an inhomogeneous shape\")\n",
    "                return False\n",
    "        return True\n",
    "\n",
    "    def l2_norm(self) -> float:\n",
    "        \"\"\"\n",
    "        Computes the Frobenius norm (L2 norm) of a matrix.\n",
    "\n",
    "        :param matrix: List[List[int/float]] - The input matrix\n",
    "        :returns: float - The Frobenius norm of the matrix\n",
    "        \"\"\"\n",
    "        squared_sum = 0.0\n",
    "        for row in self.array:\n",
    "            for element in row:\n",
    "                squared_sum += element ** 2\n",
    "        return math.sqrt(squared_sum)\n",
    "\n",
    "    def transpose(self) -> 'Matrix':\n",
    "        ''' Transpose the matrix to convert row vectors to column vectors and vice versa '''\n",
    "        transposed_array = [list(row) for row in zip(*self.array)]\n",
    "        return Matrix(transposed_array)\n",
    "\n",
    "    def add(self, other: 'Matrix') -> 'Matrix':\n",
    "        ''' Matrix-Matrix addition '''\n",
    "        if self.dimensions != other.dimensions:\n",
    "            raise ValueError(\"Matrices must be of the same dimensions for addition\")\n",
    "        \n",
    "        new_array = [\n",
    "            [self.array[i][j] + other.array[i][j] for j in range(self.dimensions[1])]\n",
    "            for i in range(self.dimensions[0])\n",
    "        ]\n",
    "        return Matrix(new_array)\n",
    "\n",
    "    def scalar_multiplication(self, scalar: Union[int, float]) -> 'Matrix':\n",
    "        ''' Scalar-Matrix multiplication '''\n",
    "        new_array = [\n",
    "            [scalar * value for value in row]\n",
    "            for row in self.array\n",
    "        ]\n",
    "        return Matrix(new_array)\n",
    "\n",
    "    def matrix_vector_product(self, vector: Vector) -> Vector:\n",
    "        ''' Matrix-Vector multiplication '''\n",
    "        if self.dimensions[1] != vector.dimension:\n",
    "            raise ValueError(\"Number of columns in matrix must match dimension of vector\")\n",
    "        \n",
    "        result = Vector([\n",
    "            sum(self.array[i][j] * vector.array[j] for j in range(self.dimensions[1]))\n",
    "            for i in range(self.dimensions[0])\n",
    "        ])\n",
    "        return result\n",
    "\n",
    "    def matrix_matrix_product(self, other: 'Matrix') -> 'Matrix':\n",
    "        ''' Matrix-Matrix multiplication '''\n",
    "        if self.dimensions[1] != other.dimensions[0]:\n",
    "            raise ValueError(\"Number of columns in first matrix must match number of rows in second matrix\")\n",
    "        \n",
    "        new_array = [\n",
    "            [\n",
    "                sum(self.array[i][k] * other.array[k][j] for k in range(self.dimensions[1]))\n",
    "                for j in range(other.dimensions[1])\n",
    "            ]\n",
    "            for i in range(self.dimensions[0])\n",
    "        ]\n",
    "        return Matrix(new_array)"
   ]
  },
  {
   "cell_type": "code",
   "execution_count": 48,
   "metadata": {},
   "outputs": [
    {
     "data": {
      "text/plain": [
       "Matrix: [[2, 3], [0, 4]] \n",
       "Shape: (2, 2)"
      ]
     },
     "execution_count": 48,
     "metadata": {},
     "output_type": "execute_result"
    }
   ],
   "source": [
    "m1 = Matrix([[2,3],[0,4]])\n",
    "m1"
   ]
  },
  {
   "cell_type": "code",
   "execution_count": 49,
   "metadata": {},
   "outputs": [
    {
     "data": {
      "text/plain": [
       "Matrix: [[3, 2], [5, 3]] \n",
       "Shape: (2, 2)"
      ]
     },
     "execution_count": 49,
     "metadata": {},
     "output_type": "execute_result"
    }
   ],
   "source": [
    "m2 = Matrix([[3,2],[5,3]])\n",
    "m2"
   ]
  },
  {
   "cell_type": "code",
   "execution_count": 38,
   "metadata": {},
   "outputs": [
    {
     "data": {
      "text/plain": [
       "Matrix: [[5, 5], [5, 7]] \n",
       "Shape: (2, 2)"
      ]
     },
     "execution_count": 38,
     "metadata": {},
     "output_type": "execute_result"
    }
   ],
   "source": [
    "# addition\n",
    "m1.add(m2)"
   ]
  },
  {
   "cell_type": "code",
   "execution_count": 39,
   "metadata": {},
   "outputs": [
    {
     "data": {
      "text/plain": [
       "Matrix: [[10, 15], [0, 20]] \n",
       "Shape: (2, 2)"
      ]
     },
     "execution_count": 39,
     "metadata": {},
     "output_type": "execute_result"
    }
   ],
   "source": [
    "# scalar multiplication\n",
    "m1.scalar_multiplication(5)"
   ]
  },
  {
   "cell_type": "code",
   "execution_count": 40,
   "metadata": {},
   "outputs": [
    {
     "data": {
      "text/plain": [
       "Vector: [8, 8]"
      ]
     },
     "execution_count": 40,
     "metadata": {},
     "output_type": "execute_result"
    }
   ],
   "source": [
    "# matrix vector product\n",
    "m1.matrix_vector_product(Vector([1,2]))"
   ]
  },
  {
   "cell_type": "code",
   "execution_count": 41,
   "metadata": {},
   "outputs": [
    {
     "data": {
      "text/plain": [
       "Matrix: [[21, 13], [20, 12]] \n",
       "Shape: (2, 2)"
      ]
     },
     "execution_count": 41,
     "metadata": {},
     "output_type": "execute_result"
    }
   ],
   "source": [
    "# matrix matrix product\n",
    "m1.matrix_matrix_product(m2)"
   ]
  },
  {
   "cell_type": "markdown",
   "metadata": {},
   "source": [
    "### Frobenius Norm Definition: \n",
    "The Frobenius norm of a matrix $A$ is defined as: \n",
    "$$A = \\sqrt{\\sum{i=1}^{m} \\sum_{j=1}^{n} a_{ij}^2} $$ "
   ]
  },
  {
   "cell_type": "code",
   "execution_count": 50,
   "metadata": {},
   "outputs": [
    {
     "data": {
      "text/plain": [
       "5.385164807134504"
      ]
     },
     "execution_count": 50,
     "metadata": {},
     "output_type": "execute_result"
    }
   ],
   "source": [
    "m1.l2_norm()"
   ]
  }
 ],
 "metadata": {
  "kernelspec": {
   "display_name": "Python 3 (ipykernel)",
   "language": "python",
   "name": "python3"
  },
  "language_info": {
   "codemirror_mode": {
    "name": "ipython",
    "version": 3
   },
   "file_extension": ".py",
   "mimetype": "text/x-python",
   "name": "python",
   "nbconvert_exporter": "python",
   "pygments_lexer": "ipython3",
   "version": "3.12.7"
  }
 },
 "nbformat": 4,
 "nbformat_minor": 4
}
